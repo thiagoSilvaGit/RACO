{
  "nbformat": 4,
  "nbformat_minor": 0,
  "metadata": {
    "colab": {
      "name": "loginGit.ipynb",
      "provenance": [],
      "authorship_tag": "ABX9TyOJMohVdqlcRCDcE+84GkHw",
      "include_colab_link": true
    },
    "kernelspec": {
      "name": "python3",
      "display_name": "Python 3"
    },
    "language_info": {
      "name": "python"
    }
  },
  "cells": [
    {
      "cell_type": "markdown",
      "metadata": {
        "id": "view-in-github",
        "colab_type": "text"
      },
      "source": [
        "<a href=\"https://colab.research.google.com/github/thiagoSilvaGit/RACO/blob/master/loginGit.ipynb\" target=\"_parent\"><img src=\"https://colab.research.google.com/assets/colab-badge.svg\" alt=\"Open In Colab\"/></a>"
      ]
    },
    {
      "cell_type": "markdown",
      "metadata": {
        "id": "z0090R2mu0LR"
      },
      "source": [
        "# Clonar repositório local"
      ]
    },
    {
      "cell_type": "code",
      "metadata": {
        "colab": {
          "base_uri": "https://localhost:8080/"
        },
        "id": "xISJWKyxnOMI",
        "outputId": "fe973eca-c413-4def-be9b-57a8c825b0c7"
      },
      "source": [
        "from google.colab import drive\n",
        "drive.mount('/content/gdrive')\n",
        "\n"
      ],
      "execution_count": 1,
      "outputs": [
        {
          "output_type": "stream",
          "text": [
            "Mounted at /content/gdrive\n"
          ],
          "name": "stdout"
        }
      ]
    },
    {
      "cell_type": "code",
      "metadata": {
        "id": "sXkTltNfvh3U",
        "outputId": "9cc76249-116b-4605-8e7f-c38cd9cd57bb",
        "colab": {
          "base_uri": "https://localhost:8080/"
        }
      },
      "source": [
        "%cd /content/gdrive/MyDrive/GitHubProjects/"
      ],
      "execution_count": 2,
      "outputs": [
        {
          "output_type": "stream",
          "text": [
            "/content/gdrive/MyDrive/GitHubProjects\n"
          ],
          "name": "stdout"
        }
      ]
    },
    {
      "cell_type": "code",
      "metadata": {
        "id": "XTmYbm34nhdU"
      },
      "source": [
        "!git config --global user.name \"thiagoSilvaGit\" #trocar pelo seu user\n"
      ],
      "execution_count": 10,
      "outputs": []
    },
    {
      "cell_type": "code",
      "metadata": {
        "id": "S9mEgBRqtKd2",
        "outputId": "7aa4078c-2df8-4091-8342-6786c4ce247c",
        "colab": {
          "base_uri": "https://localhost:8080/"
        }
      },
      "source": [
        "!git clone https://github.com/thiagoSilvaGit/RACO.git"
      ],
      "execution_count": 4,
      "outputs": [
        {
          "output_type": "stream",
          "text": [
            "Cloning into 'RACO'...\n",
            "remote: Enumerating objects: 467, done.\u001b[K\n",
            "remote: Counting objects: 100% (191/191), done.\u001b[K\n",
            "remote: Compressing objects: 100% (115/115), done.\u001b[K\n",
            "remote: Total 467 (delta 113), reused 146 (delta 74), pack-reused 276\u001b[K\n",
            "Receiving objects: 100% (467/467), 1.35 MiB | 2.03 MiB/s, done.\n",
            "Resolving deltas: 100% (307/307), done.\n",
            "Checking out files: 100% (255/255), done.\n"
          ],
          "name": "stdout"
        }
      ]
    },
    {
      "cell_type": "code",
      "metadata": {
        "id": "fLOlJDWRsr-Q",
        "outputId": "70ba38cb-3092-4623-9313-d555c96aa547",
        "colab": {
          "base_uri": "https://localhost:8080/"
        }
      },
      "source": [
        "#%cd /content/gdrive/MyDrive/GitHubProjects/RACO/PyRACO/\n",
        "%cd /content/gdrive/MyDrive/GitHubProjects/RACO"
      ],
      "execution_count": 8,
      "outputs": [
        {
          "output_type": "stream",
          "text": [
            "/content/gdrive/MyDrive/GitHubProjects/RACO\n"
          ],
          "name": "stdout"
        }
      ]
    },
    {
      "cell_type": "markdown",
      "metadata": {
        "id": "L6FAUU3pxBUj"
      },
      "source": [
        "# Pull e Push"
      ]
    },
    {
      "cell_type": "code",
      "metadata": {
        "id": "p7xC5SA1xYQF",
        "outputId": "4699bbc3-c6a0-4e8f-c238-3cbe437e7fac",
        "colab": {
          "base_uri": "https://localhost:8080/"
        }
      },
      "source": [
        "!git config --global user.name \"thiagoSilvaGit\" #trocar pelo seu user\n",
        "%cd /content/gdrive/MyDrive/GitHubProjects/RACO\n",
        "!git add . \n",
        "!git commit -m \"message\""
      ],
      "execution_count": 15,
      "outputs": [
        {
          "output_type": "stream",
          "text": [
            "/content/gdrive/MyDrive/GitHubProjects/RACO\n",
            "\n",
            "*** Please tell me who you are.\n",
            "\n",
            "Run\n",
            "\n",
            "  git config --global user.email \"you@example.com\"\n",
            "  git config --global user.name \"Your Name\"\n",
            "\n",
            "to set your account's default identity.\n",
            "Omit --global to set the identity only in this repository.\n",
            "\n",
            "fatal: unable to auto-detect email address (got 'root@c21d2fd8c8db.(none)')\n"
          ],
          "name": "stdout"
        }
      ]
    }
  ]
}